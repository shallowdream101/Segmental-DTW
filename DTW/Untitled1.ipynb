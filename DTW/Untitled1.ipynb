{
 "cells": [
  {
   "cell_type": "code",
   "execution_count": 5,
   "metadata": {},
   "outputs": [],
   "source": [
    "data=read.csv(\"26HUVLQKM4L1_20181114.csv\")"
   ]
  },
  {
   "cell_type": "code",
   "execution_count": 7,
   "metadata": {},
   "outputs": [],
   "source": [
    "data=data[c(\"TimeStr\",\"Ia\")]"
   ]
  },
  {
   "cell_type": "code",
   "execution_count": 8,
   "metadata": {},
   "outputs": [
    {
     "data": {
      "text/html": [
       "<table>\n",
       "<thead><tr><th scope=col>TimeStr</th><th scope=col>Ia</th></tr></thead>\n",
       "<tbody>\n",
       "\t<tr><td>2018-11-14 00:00:00</td><td>3.0                </td></tr>\n",
       "\t<tr><td>2018-11-14 00:00:01</td><td>3.0                </td></tr>\n",
       "\t<tr><td>2018-11-14 00:00:02</td><td>3.0                </td></tr>\n",
       "\t<tr><td>2018-11-14 00:00:03</td><td>2.7                </td></tr>\n",
       "\t<tr><td>2018-11-14 00:00:04</td><td>2.7                </td></tr>\n",
       "\t<tr><td>2018-11-14 00:00:05</td><td>2.7                </td></tr>\n",
       "</tbody>\n",
       "</table>\n"
      ],
      "text/latex": [
       "\\begin{tabular}{r|ll}\n",
       " TimeStr & Ia\\\\\n",
       "\\hline\n",
       "\t 2018-11-14 00:00:00 & 3.0                \\\\\n",
       "\t 2018-11-14 00:00:01 & 3.0                \\\\\n",
       "\t 2018-11-14 00:00:02 & 3.0                \\\\\n",
       "\t 2018-11-14 00:00:03 & 2.7                \\\\\n",
       "\t 2018-11-14 00:00:04 & 2.7                \\\\\n",
       "\t 2018-11-14 00:00:05 & 2.7                \\\\\n",
       "\\end{tabular}\n"
      ],
      "text/markdown": [
       "\n",
       "TimeStr | Ia | \n",
       "|---|---|---|---|---|---|\n",
       "| 2018-11-14 00:00:00 | 3.0                 | \n",
       "| 2018-11-14 00:00:01 | 3.0                 | \n",
       "| 2018-11-14 00:00:02 | 3.0                 | \n",
       "| 2018-11-14 00:00:03 | 2.7                 | \n",
       "| 2018-11-14 00:00:04 | 2.7                 | \n",
       "| 2018-11-14 00:00:05 | 2.7                 | \n",
       "\n",
       "\n"
      ],
      "text/plain": [
       "  TimeStr             Ia \n",
       "1 2018-11-14 00:00:00 3.0\n",
       "2 2018-11-14 00:00:01 3.0\n",
       "3 2018-11-14 00:00:02 3.0\n",
       "4 2018-11-14 00:00:03 2.7\n",
       "5 2018-11-14 00:00:04 2.7\n",
       "6 2018-11-14 00:00:05 2.7"
      ]
     },
     "metadata": {},
     "output_type": "display_data"
    }
   ],
   "source": [
    "head(data)"
   ]
  },
  {
   "cell_type": "code",
   "execution_count": null,
   "metadata": {},
   "outputs": [],
   "source": []
  }
 ],
 "metadata": {
  "kernelspec": {
   "display_name": "R",
   "language": "R",
   "name": "ir"
  },
  "language_info": {
   "codemirror_mode": "r",
   "file_extension": ".r",
   "mimetype": "text/x-r-source",
   "name": "R",
   "pygments_lexer": "r",
   "version": "3.4.3"
  }
 },
 "nbformat": 4,
 "nbformat_minor": 2
}
