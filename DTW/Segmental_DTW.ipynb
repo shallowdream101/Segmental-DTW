{
 "cells": [
  {
   "cell_type": "code",
   "execution_count": 1,
   "metadata": {},
   "outputs": [
    {
     "name": "stdout",
     "output_type": "stream",
     "text": [
      "importing Jupyter notebook from DRS.ipynb\n"
     ]
    },
    {
     "name": "stderr",
     "output_type": "stream",
     "text": [
      "/usr/local/anaconda3/lib/python3.6/site-packages/numpy/core/fromnumeric.py:2957: RuntimeWarning: Mean of empty slice.\n",
      "  out=out, **kwargs)\n",
      "/usr/local/anaconda3/lib/python3.6/site-packages/numpy/core/_methods.py:80: RuntimeWarning: invalid value encountered in double_scalars\n",
      "  ret = ret.dtype.type(ret / rcount)\n",
      "/usr/local/anaconda3/lib/python3.6/site-packages/numpy/core/fromnumeric.py:2957: RuntimeWarning: Mean of empty slice.\n",
      "  out=out, **kwargs)\n",
      "/usr/local/anaconda3/lib/python3.6/site-packages/numpy/core/_methods.py:80: RuntimeWarning: invalid value encountered in double_scalars\n",
      "  ret = ret.dtype.type(ret / rcount)\n"
     ]
    }
   ],
   "source": [
    "import ipynb_import\n",
    "import DRS\n",
    "import numpy as np\n",
    "import pandas as pd\n",
    "from numpy import array, zeros, argmin, inf, equal, ndim\n",
    "from sklearn.metrics.pairwise import manhattan_distances\n"
   ]
  },
  {
   "cell_type": "code",
   "execution_count": 2,
   "metadata": {},
   "outputs": [],
   "source": [
    "def huachuang(dis,start,w): \n",
    "    n=dis.shape[0]\n",
    "    if start<=(n-w):\n",
    "        q=start+w-n\n",
    "        q=int(q)\n",
    "        diag=np.diag(dis,q)\n",
    "        m=len(diag)\n",
    "        chuang=np.full((m,m),inf)\n",
    "        for i in range(w):\n",
    "            chuang[0:(w+i+1),i]=dis[(n-m):((n-(m-w))+i+1),i]\n",
    "        for i in range(w,(m-w),1):\n",
    "            chuang[(i-w):(i+w+1),i]=dis[(n-m+(i-w)):(n-m+(i+w)+1),i]\n",
    "        for i in range((m-w),m,1):\n",
    "            chuang[(i-w):(m),i]=dis[(n-m+i-w):(n),i]\n",
    "    #print(\"划窗大小\",chuang.shape)\n",
    "    return chuang"
   ]
  },
  {
   "cell_type": "code",
   "execution_count": null,
   "metadata": {},
   "outputs": [],
   "source": []
  },
  {
   "cell_type": "code",
   "execution_count": 3,
   "metadata": {},
   "outputs": [
    {
     "data": {
      "text/plain": [
       "'dis=np.array([[ 0.,  1.,  2.,  3.,  4,  5.,  6.,  7.,  8., 10., 12., 13.],\\n [ 1. , 0. , 1. , 2.,  3. , 4.,  5.,  6.,  7. , 9. ,11. ,12.],\\n [ 2. , 1. , 0. , 1. , 2. , 3.,  4.,  5.,  6. , 8. ,10. ,11.],\\n [ 3. , 2. , 1. , 0. , 1. , 2.,  3.,  4.,  5. , 7. , 9. ,10.],\\n [ 4. , 3. , 2. , 1. , 0. , 1.,  2.,  3.,  4. , 6. , 8. , 9.],\\n [ 5. , 4. , 3. , 2. , 1. , 0. , 1.,  2. , 3. , 5. , 7. , 8.],\\n [ 6. , 5. , 4. , 3. , 2.  ,1.,  0.,  1. , 2. , 4. , 6. , 7.],\\n [ 7. , 6. , 5. , 4. , 3. , 2. , 1.,  0. , 1. , 3. , 5. , 6.],\\n [ 8. , 7. , 6.,  5. , 4. , 3. , 2.,  1. , 0. , 2. , 4. , 5.],\\n [10. , 9. , 8.,  7. , 6. , 5. , 4.,  3. , 2. , 0. , 2. , 3.],\\n [12. ,11., 10.,  9. , 8. , 7. , 6.,  5. , 4. , 2. , 0. , 1.],\\n [13. ,12., 11., 10. , 9.  ,8. , 7.,  6. , 5. , 3. , 1. , 0.]])\\n '"
      ]
     },
     "execution_count": 3,
     "metadata": {},
     "output_type": "execute_result"
    }
   ],
   "source": [
    "'''dis=np.array([[ 0.,  1.,  2.,  3.,  4,  5.,  6.,  7.,  8., 10., 12., 13.],\n",
    " [ 1. , 0. , 1. , 2.,  3. , 4.,  5.,  6.,  7. , 9. ,11. ,12.],\n",
    " [ 2. , 1. , 0. , 1. , 2. , 3.,  4.,  5.,  6. , 8. ,10. ,11.],\n",
    " [ 3. , 2. , 1. , 0. , 1. , 2.,  3.,  4.,  5. , 7. , 9. ,10.],\n",
    " [ 4. , 3. , 2. , 1. , 0. , 1.,  2.,  3.,  4. , 6. , 8. , 9.],\n",
    " [ 5. , 4. , 3. , 2. , 1. , 0. , 1.,  2. , 3. , 5. , 7. , 8.],\n",
    " [ 6. , 5. , 4. , 3. , 2.  ,1.,  0.,  1. , 2. , 4. , 6. , 7.],\n",
    " [ 7. , 6. , 5. , 4. , 3. , 2. , 1.,  0. , 1. , 3. , 5. , 6.],\n",
    " [ 8. , 7. , 6.,  5. , 4. , 3. , 2.,  1. , 0. , 2. , 4. , 5.],\n",
    " [10. , 9. , 8.,  7. , 6. , 5. , 4.,  3. , 2. , 0. , 2. , 3.],\n",
    " [12. ,11., 10.,  9. , 8. , 7. , 6.,  5. , 4. , 2. , 0. , 1.],\n",
    " [13. ,12., 11., 10. , 9.  ,8. , 7.,  6. , 5. , 3. , 1. , 0.]])\n",
    " '''"
   ]
  },
  {
   "cell_type": "code",
   "execution_count": null,
   "metadata": {},
   "outputs": [],
   "source": []
  },
  {
   "cell_type": "code",
   "execution_count": 4,
   "metadata": {},
   "outputs": [],
   "source": [
    "def DTW(D1):\n",
    "    r, c = D1.shape\n",
    "    D0 = zeros((r+1,c+1))\n",
    "    D0[0,1:] = inf\n",
    "    D0[1:,0] = inf\n",
    "    D1 = D0[1:,1:]       \n",
    "    for i in range(r):\n",
    "        for j in range(c):\n",
    "            D1[i,j] =D1[i,j]+ min(D0[i,j],D0[i,j+1],D0[i+1,j])\n",
    "    #print(\"D0\",D0)\n",
    "    #print(\"D1\",D1)\n",
    "    i,j = array(D0.shape) - 2\n",
    "    #最短路径\n",
    "    # print i,j\n",
    "    p,q = [i],[j]\n",
    "    while(i>0 or j>0):\n",
    "        tb = argmin((D0[i,j],D0[i,j+1],D0[i+1,j]))\n",
    "        if tb==0 :\n",
    "            i-=1\n",
    "            j-=1\n",
    "        elif tb==1 :\n",
    "            i-=1\n",
    "        else:\n",
    "            j-=1\n",
    "        p.insert(0,i)\n",
    "        q.insert(0,j)\n",
    "\n",
    "    path=list(zip(p,q))\n",
    "   # path_sum=(D1[-1,-1])\n",
    "    return path"
   ]
  },
  {
   "cell_type": "code",
   "execution_count": null,
   "metadata": {},
   "outputs": [],
   "source": []
  },
  {
   "cell_type": "code",
   "execution_count": 5,
   "metadata": {},
   "outputs": [],
   "source": [
    "def S_DTW_trim(x,y,w,overlap,L):\n",
    "    n=x.shape[0]\n",
    "    dis=np.zeros((x.shape[0],y.shape[0]))\n",
    "    for i in range(x.shape[0]):\n",
    "        for j in range(y.shape[0]):\n",
    "            dis[i,j]=np.abs(x[i]-y[j])\n",
    "    #print((sum(dis)))\n",
    "    #print(dis)\n",
    "    trim=[]\n",
    "    for start in range(L,n-w+1,w-overlap):\n",
    "        #print(\"这是一个segment\")\n",
    "        segment=huachuang(dis,start,w)\n",
    "        #print(start)\n",
    "        path = np.array(DTW(segment))\n",
    "        #print(pd.DataFrame(path))\n",
    "        t=np.zeros(path.shape[0]-1)\n",
    "        for i in range(1,path.shape[0],1):\n",
    "            t[i-1]=np.sqrt(np.sum((path[i]-path[i-1])**2))\n",
    "        #print(DRS.MAXAVGSEQ(t,L))\n",
    "        trim.append(DRS.MAXAVGSEQ(t,L))\n",
    "    print(trim)\n",
    "    p=np.array(trim[0])\n",
    "    for i in range(1,len(trim)):\n",
    "        p=np.vstack((p,np.array(trim[i])))\n",
    "    p=pd.DataFrame(p,columns=['first','second'])\n",
    "    p['count']=1\n",
    "    p=p.groupby(['first','second']).sum().reset_index()\n",
    "    #p=pd.DataFrame(np.unique(p,axis=0),columns=[\"first\",\"second\"])\n",
    "    #p=p.groupby([\"first\"]).max().reset_index().loc[:,[\"first\",\"second\"]]\n",
    "    return p"
   ]
  },
  {
   "cell_type": "code",
   "execution_count": 6,
   "metadata": {},
   "outputs": [
    {
     "name": "stdout",
     "output_type": "stream",
     "text": [
      "[   first  second\n",
      "0      0       4\n",
      "1      1       7,    first  second\n",
      "0      0       4\n",
      "1      1      11]\n"
     ]
    },
    {
     "name": "stderr",
     "output_type": "stream",
     "text": [
      "/usr/local/anaconda3/lib/python3.6/site-packages/numpy/core/fromnumeric.py:2957: RuntimeWarning: Mean of empty slice.\n",
      "  out=out, **kwargs)\n",
      "/usr/local/anaconda3/lib/python3.6/site-packages/numpy/core/_methods.py:80: RuntimeWarning: invalid value encountered in double_scalars\n",
      "  ret = ret.dtype.type(ret / rcount)\n"
     ]
    }
   ],
   "source": [
    "if __name__==\"__main__\":\n",
    "    x=np.array([1,2,3,4,5,6,7,8,9,11,13,14])\n",
    "    y=np.array([1,2,3,4,5,6,7,8,9,11,13,14])\n",
    "    w=4\n",
    "    overlap=0\n",
    "    L=4\n",
    "    path=S_DTW_trim(x,y,w,overlap,L)\n",
    "    "
   ]
  },
  {
   "cell_type": "code",
   "execution_count": null,
   "metadata": {},
   "outputs": [],
   "source": []
  },
  {
   "cell_type": "code",
   "execution_count": null,
   "metadata": {},
   "outputs": [],
   "source": []
  },
  {
   "cell_type": "code",
   "execution_count": null,
   "metadata": {},
   "outputs": [],
   "source": []
  }
 ],
 "metadata": {
  "kernelspec": {
   "display_name": "Python 3",
   "language": "python",
   "name": "python3"
  },
  "language_info": {
   "codemirror_mode": {
    "name": "ipython",
    "version": 3
   },
   "file_extension": ".py",
   "mimetype": "text/x-python",
   "name": "python",
   "nbconvert_exporter": "python",
   "pygments_lexer": "ipython3",
   "version": "3.6.5"
  }
 },
 "nbformat": 4,
 "nbformat_minor": 2
}
